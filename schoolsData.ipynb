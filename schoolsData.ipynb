{
 "cells": [
  {
   "cell_type": "markdown",
   "metadata": {},
   "source": [
    "# Агрегатор відкритих даних про школи\n",
    "Короткий вступ до Pandas: https://pandas.pydata.org/pandas-docs/stable/getting_started/10min.html"
   ]
  },
  {
   "cell_type": "code",
   "execution_count": 49,
   "metadata": {},
   "outputs": [],
   "source": [
    "# імпортуємо Pandas\n",
    "import pandas as pd\n",
    "import random\n",
    "import requests\n",
    "import pprint"
   ]
  },
  {
   "cell_type": "markdown",
   "metadata": {},
   "source": [
    "## Крок 1: Завантажимо перелік шкіл в систему"
   ]
  },
  {
   "cell_type": "code",
   "execution_count": 7,
   "metadata": {},
   "outputs": [],
   "source": [
    "url = \"https://docs.google.com/spreadsheets/d/e/2PACX-1vT1RS5WDLVclCj8LKhn1vzfdLOUOJXEufPdLHhz76hAvsTFXEBdlLyeTcb-aBQFoHqKTGrANXL8HsPj/pub?gid=1071881970&single=true&output=csv\"\n",
    "schools = pd.read_csv(url)"
   ]
  },
  {
   "cell_type": "code",
   "execution_count": 9,
   "metadata": {},
   "outputs": [],
   "source": [
    "# надрукуємо табличку\n",
    "schools"
   ]
  },
  {
   "cell_type": "code",
   "execution_count": 19,
   "metadata": {},
   "outputs": [],
   "source": [
    "# для легкої роботи з таблицею визначимо типи даних у колонках\n",
    "columns_types = {\n",
    "    'regDate':  str,\n",
    "    'orgCode': str,\n",
    "    'orgName': str,\n",
    "    'kopfg': str,\n",
    "    'koatu': str,\n",
    "    'regionName': str,\n",
    "    'district': str,\n",
    "    'city': str,\n",
    "    'city_clean': str,\n",
    "    'districtCity': str }"
   ]
  },
  {
   "cell_type": "code",
   "execution_count": 20,
   "metadata": {},
   "outputs": [],
   "source": [
    "schools = pd.read_csv(url, dtype = columns_types)"
   ]
  },
  {
   "cell_type": "code",
   "execution_count": null,
   "metadata": {},
   "outputs": [],
   "source": [
    "# надрукуємо табличку\n",
    "schools"
   ]
  },
  {
   "cell_type": "code",
   "execution_count": 22,
   "metadata": {},
   "outputs": [],
   "source": [
    "# переглянути початок таблиці\n",
    "schools.head()"
   ]
  },
  {
   "cell_type": "code",
   "execution_count": null,
   "metadata": {},
   "outputs": [],
   "source": [
    "# переглянути кінець таблиці\n",
    "schools.tail()"
   ]
  },
  {
   "cell_type": "code",
   "execution_count": null,
   "metadata": {},
   "outputs": [],
   "source": [
    "# переглянути колонки в таблиці\n",
    "schools.columns"
   ]
  },
  {
   "cell_type": "code",
   "execution_count": 27,
   "metadata": {},
   "outputs": [
    {
     "data": {
      "text/plain": [
       "(2126, 10)"
      ]
     },
     "execution_count": 27,
     "metadata": {},
     "output_type": "execute_result"
    }
   ],
   "source": [
    "schools.shape"
   ]
  },
  {
   "cell_type": "code",
   "execution_count": 25,
   "metadata": {},
   "outputs": [],
   "source": [
    "# відсортувати значення за однією клонкою\n",
    "schools.sort_values(by='koatu')"
   ]
  },
  {
   "cell_type": "markdown",
   "metadata": {},
   "source": [
    "## Обираємо 10 випадкових шкіл для роботи"
   ]
  },
  {
   "cell_type": "code",
   "execution_count": 30,
   "metadata": {},
   "outputs": [
    {
     "name": "stdout",
     "output_type": "stream",
     "text": [
      "1141    38872778\n",
      "1723    25889776\n",
      "1437    02143353\n",
      "Name: orgCode, dtype: object\n"
     ]
    }
   ],
   "source": [
    "numbers = random.sample(range(0, 2125), 3)\n",
    "ids = schools.iloc[numbers,1]\n",
    "print(ids)"
   ]
  },
  {
   "cell_type": "markdown",
   "metadata": {},
   "source": [
    "## Закачуємо реєстраційні дані про реєстраційних осіб"
   ]
  },
  {
   "cell_type": "code",
   "execution_count": 46,
   "metadata": {},
   "outputs": [],
   "source": [
    "# створюмо адреси\n",
    "reg_urls = [\"https://opendatabot.com/api/v2/fullcompany/\" + i + \"?apiKey=h1qeSlE4Lw\" for i in ids]"
   ]
  },
  {
   "cell_type": "code",
   "execution_count": 47,
   "metadata": {},
   "outputs": [],
   "source": [
    "# закачуємо дані\n",
    "reg_resp = [requests.get(i) for i in reg_urls]"
   ]
  },
  {
   "cell_type": "code",
   "execution_count": 53,
   "metadata": {},
   "outputs": [],
   "source": [
    "# перетворюємо дані у формат словника\n",
    "reg_data = [i.json() for i in reg_resp]\n",
    "pprint.pprint(reg_data[1])"
   ]
  },
  {
   "cell_type": "markdown",
   "metadata": {},
   "source": [
    "## Закачати судові справи про юридичних осіб\n",
    "На основі API OpenDataBot завантажте судові справи де компанія є стороною"
   ]
  },
  {
   "cell_type": "code",
   "execution_count": null,
   "metadata": {},
   "outputs": [],
   "source": []
  },
  {
   "cell_type": "markdown",
   "metadata": {},
   "source": [
    "## Дістаємо інформацію про закупівлі"
   ]
  },
  {
   "cell_type": "code",
   "execution_count": 54,
   "metadata": {},
   "outputs": [],
   "source": [
    "# створюмо адреси\n",
    "t_urls = [\"https://clarity-project.info/api/tender.search?entity=\" + i for i in ids]"
   ]
  },
  {
   "cell_type": "code",
   "execution_count": 55,
   "metadata": {},
   "outputs": [],
   "source": [
    "# закачуємо дані\n",
    "t_resp = [requests.get(i) for i in t_urls]"
   ]
  },
  {
   "cell_type": "code",
   "execution_count": 56,
   "metadata": {},
   "outputs": [],
   "source": [
    "# перетворюємо дані у формат словника\n",
    "t_data = [i.json() for i in t_resp]"
   ]
  },
  {
   "cell_type": "code",
   "execution_count": 61,
   "metadata": {},
   "outputs": [
    {
     "data": {
      "text/plain": [
       "100"
      ]
     },
     "execution_count": 61,
     "metadata": {},
     "output_type": "execute_result"
    }
   ],
   "source": [
    "t_data[1]['tenders']"
   ]
  }
 ],
 "metadata": {
  "kernelspec": {
   "display_name": "Python 3",
   "language": "python",
   "name": "python3"
  },
  "language_info": {
   "codemirror_mode": {
    "name": "ipython",
    "version": 3
   },
   "file_extension": ".py",
   "mimetype": "text/x-python",
   "name": "python",
   "nbconvert_exporter": "python",
   "pygments_lexer": "ipython3",
   "version": "3.6.7"
  }
 },
 "nbformat": 4,
 "nbformat_minor": 2
}
