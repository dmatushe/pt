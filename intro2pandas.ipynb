{
 "cells": [
  {
   "cell_type": "markdown",
   "metadata": {},
   "source": [
    "# Ласкаво просимо до Pandas"
   ]
  },
  {
   "cell_type": "markdown",
   "metadata": {},
   "source": [
    "Короткий вступ до Pandas: https://pandas.pydata.org/pandas-docs/stable/getting_started/10min.html"
   ]
  },
  {
   "cell_type": "code",
   "execution_count": 3,
   "metadata": {},
   "outputs": [],
   "source": [
    "# імпортуємо бібліотеку pandas\n",
    "import pandas as pd"
   ]
  },
  {
   "cell_type": "markdown",
   "metadata": {},
   "source": [
    "## Імпорт даних у Pandas"
   ]
  },
  {
   "cell_type": "code",
   "execution_count": 52,
   "metadata": {},
   "outputs": [],
   "source": [
    "# для легкої роботи з таблицею визначимо типи даних у колонках\n",
    "columns_types = {\n",
    "    'PERSON': str,\n",
    "    'REG_ADDR_KOATUU': str,\n",
    "    'OPER_CODE': str,\n",
    "    'OPER_NAME': str,\n",
    "    'D_REG': str,\n",
    "    'DEP_CODE': str,\n",
    "    'DEP': str,\n",
    "    'BRAND': str,\n",
    "    'MODEL': str,\n",
    "    'MAKE_YEAR': str,\n",
    "    'COLOR': str,\n",
    "    'KIND': str,\n",
    "    'BODY': str,\n",
    "    'PURPOSE': str,\n",
    "    'FUEL': str,\n",
    "    'CAPACITY': str,\n",
    "    'OWN_WEIGHT': str,\n",
    "    'TOTAL_WEIGHT': str,\n",
    "    'N_REG': str\n",
    "}"
   ]
  },
  {
   "cell_type": "code",
   "execution_count": 53,
   "metadata": {},
   "outputs": [],
   "source": [
    "# імпортуємо дані методом pd.read_csv\n",
    "tz = pd.read_csv(\"https://docs.google.com/spreadsheets/d/e/2PACX-1vTYKkZnH4Rw61uxFzM7wyzQUaE5EM3VTs-aCoWFL9qynRB7K3ezWKndNoKKClO8Wd8tGHBoLazmAKip/pub?gid=0&single=true&output=csv\", dtype = columns_types)"
   ]
  },
  {
   "cell_type": "code",
   "execution_count": 80,
   "metadata": {},
   "outputs": [],
   "source": [
    "# дрібні додаткові налаштування\n",
    "tz[\"CAPACITY\"] = pd.to_numeric(tz[\"CAPACITY\"])\n",
    "#tz[\"OWN_WEIGHT\"] = pd.to_numeric(tz[\"OWN_WEIGHT\"])\n",
    "#tz[\"TOTAL_WEIGHT\"] = pd.to_numeric(tz[\"TOTAL_WEIGHT\"])\n",
    "tz[\"MAKE_YEAR\"] = pd.to_datetime(tz[\"MAKE_YEAR\"])\n",
    "tz[\"D_REG\"] = pd.to_datetime(tz[\"D_REG\"])"
   ]
  },
  {
   "cell_type": "markdown",
   "metadata": {},
   "source": [
    "## Огляд даних"
   ]
  },
  {
   "cell_type": "code",
   "execution_count": 34,
   "metadata": {},
   "outputs": [],
   "source": [
    "# переглянути початок таблиці\n",
    "tz.head()"
   ]
  },
  {
   "cell_type": "code",
   "execution_count": 33,
   "metadata": {},
   "outputs": [],
   "source": [
    "# переглянути кінець таблиці\n",
    "tz.tail()"
   ]
  },
  {
   "cell_type": "code",
   "execution_count": 32,
   "metadata": {},
   "outputs": [],
   "source": [
    "# переглянути колонки в таблиці\n",
    "tz.columns"
   ]
  },
  {
   "cell_type": "code",
   "execution_count": null,
   "metadata": {},
   "outputs": [],
   "source": [
    "# відсортувати значення за однією клонкою\n",
    "tz.sort_values(by='MAKE_YEAR')\n",
    "\n",
    "# описова статистика\n",
    "tz.describe()"
   ]
  },
  {
   "cell_type": "markdown",
   "metadata": {},
   "source": [
    "## Вибірки"
   ]
  },
  {
   "cell_type": "code",
   "execution_count": 37,
   "metadata": {},
   "outputs": [],
   "source": [
    "# обрати колонку\n",
    "tz['FUEL']"
   ]
  },
  {
   "cell_type": "code",
   "execution_count": 38,
   "metadata": {},
   "outputs": [],
   "source": [
    "# обрати одну колонку\n",
    "tz[1:5]"
   ]
  },
  {
   "cell_type": "markdown",
   "metadata": {},
   "source": [
    "Using iloc, loc, & ix to select rows and columns in Pandas DataFrames: https://www.shanelynn.ie/select-pandas-dataframe-rows-and-columns-using-iloc-loc-and-ix/"
   ]
  },
  {
   "cell_type": "code",
   "execution_count": 43,
   "metadata": {},
   "outputs": [],
   "source": [
    "# вибірка за цифровим індексом через df.iloc[<число, інтервал, номери рядків>, <число, інтервал, номери колонок>]\n",
    "tz.iloc[1:3, 5:8]"
   ]
  },
  {
   "cell_type": "code",
   "execution_count": 56,
   "metadata": {},
   "outputs": [],
   "source": [
    "# вибірка через df.loc[<індекс (назва рядків)>, <назви колонок>]\n",
    "tz.loc[1, 'DEP']"
   ]
  },
  {
   "cell_type": "code",
   "execution_count": 54,
   "metadata": {},
   "outputs": [],
   "source": [
    "# встановимо індексування за номером авто\n",
    "tz.set_index(\"N_REG\", inplace=True)"
   ]
  },
  {
   "cell_type": "code",
   "execution_count": 86,
   "metadata": {},
   "outputs": [],
   "source": [
    "# тепер можна легко обирати інформацію про кожне авто\n",
    "tz.loc[\"АІ4639НТ\"]"
   ]
  },
  {
   "cell_type": "code",
   "execution_count": 94,
   "metadata": {},
   "outputs": [],
   "source": [
    "tz.loc[tz[\"COLOR\"] == \"БІЛИЙ\"].count()"
   ]
  },
  {
   "cell_type": "markdown",
   "metadata": {},
   "source": [
    "## Розв'язання кейсу"
   ]
  },
  {
   "cell_type": "markdown",
   "metadata": {},
   "source": [
    "Чи відрізняється середній вік та об'єм двигуна машин, що ввозяться з-за кордону від середнього значення."
   ]
  },
  {
   "cell_type": "code",
   "execution_count": null,
   "metadata": {},
   "outputs": [],
   "source": []
  }
 ],
 "metadata": {
  "kernelspec": {
   "display_name": "Python 3",
   "language": "python",
   "name": "python3"
  },
  "language_info": {
   "codemirror_mode": {
    "name": "ipython",
    "version": 3
   },
   "file_extension": ".py",
   "mimetype": "text/x-python",
   "name": "python",
   "nbconvert_exporter": "python",
   "pygments_lexer": "ipython3",
   "version": "3.6.7"
  }
 },
 "nbformat": 4,
 "nbformat_minor": 2
}
